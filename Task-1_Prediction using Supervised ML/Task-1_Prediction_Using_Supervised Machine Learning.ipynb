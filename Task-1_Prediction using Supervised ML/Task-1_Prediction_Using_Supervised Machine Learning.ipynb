{
 "cells": [
  {
   "cell_type": "markdown",
   "id": "adapted-central",
   "metadata": {},
   "source": [
    "# GRIPDEC21 @ The Sparks Foundation"
   ]
  },
  {
   "cell_type": "markdown",
   "id": "transparent-stretch",
   "metadata": {},
   "source": [
    "## Coder : YASHKUMAR A. SANGHANI ( Data Science & Business Analytics Intern )"
   ]
  },
  {
   "cell_type": "markdown",
   "id": "motivated-rapid",
   "metadata": {},
   "source": [
    "## Task 1 : Prediction using Supervised Machine Learning"
   ]
  },
  {
   "cell_type": "markdown",
   "id": "addressed-sheriff",
   "metadata": {},
   "source": [
    "## ( Level - Beginner )"
   ]
  },
  {
   "cell_type": "markdown",
   "id": "limiting-crystal",
   "metadata": {},
   "source": [
    "<b style='font-size:18px'>Problem Statement</b>\n",
    "<br><br>\n",
    "<li>\n",
    "    Predict the percentage of an student based on the number of study hours.\n",
    "</li>"
   ]
  },
  {
   "cell_type": "markdown",
   "id": "competitive-setup",
   "metadata": {},
   "source": [
    "## Import all the required libraries"
   ]
  },
  {
   "cell_type": "code",
   "execution_count": 1,
   "id": "alert-rocket",
   "metadata": {},
   "outputs": [],
   "source": [
    "import pandas as pd\n",
    "import numpy as np\n",
    "from sklearn.model_selection import train_test_split \n",
    "from sklearn.linear_model import LinearRegression\n",
    "import matplotlib.pyplot as plt"
   ]
  },
  {
   "cell_type": "markdown",
   "id": "intermediate-laundry",
   "metadata": {},
   "source": [
    "## Read the given dataset from specific url and print the first 10 lines."
   ]
  },
  {
   "cell_type": "code",
   "execution_count": 2,
   "id": "destroyed-croatia",
   "metadata": {},
   "outputs": [
    {
     "name": "stdout",
     "output_type": "stream",
     "text": [
      "Dataset successfully imported!\n"
     ]
    },
    {
     "data": {
      "text/html": [
       "<div>\n",
       "<style scoped>\n",
       "    .dataframe tbody tr th:only-of-type {\n",
       "        vertical-align: middle;\n",
       "    }\n",
       "\n",
       "    .dataframe tbody tr th {\n",
       "        vertical-align: top;\n",
       "    }\n",
       "\n",
       "    .dataframe thead th {\n",
       "        text-align: right;\n",
       "    }\n",
       "</style>\n",
       "<table border=\"1\" class=\"dataframe\">\n",
       "  <thead>\n",
       "    <tr style=\"text-align: right;\">\n",
       "      <th></th>\n",
       "      <th>Hours</th>\n",
       "      <th>Scores</th>\n",
       "    </tr>\n",
       "  </thead>\n",
       "  <tbody>\n",
       "    <tr>\n",
       "      <th>0</th>\n",
       "      <td>2.5</td>\n",
       "      <td>21</td>\n",
       "    </tr>\n",
       "    <tr>\n",
       "      <th>1</th>\n",
       "      <td>5.1</td>\n",
       "      <td>47</td>\n",
       "    </tr>\n",
       "    <tr>\n",
       "      <th>2</th>\n",
       "      <td>3.2</td>\n",
       "      <td>27</td>\n",
       "    </tr>\n",
       "    <tr>\n",
       "      <th>3</th>\n",
       "      <td>8.5</td>\n",
       "      <td>75</td>\n",
       "    </tr>\n",
       "    <tr>\n",
       "      <th>4</th>\n",
       "      <td>3.5</td>\n",
       "      <td>30</td>\n",
       "    </tr>\n",
       "    <tr>\n",
       "      <th>5</th>\n",
       "      <td>1.5</td>\n",
       "      <td>20</td>\n",
       "    </tr>\n",
       "    <tr>\n",
       "      <th>6</th>\n",
       "      <td>9.2</td>\n",
       "      <td>88</td>\n",
       "    </tr>\n",
       "    <tr>\n",
       "      <th>7</th>\n",
       "      <td>5.5</td>\n",
       "      <td>60</td>\n",
       "    </tr>\n",
       "    <tr>\n",
       "      <th>8</th>\n",
       "      <td>8.3</td>\n",
       "      <td>81</td>\n",
       "    </tr>\n",
       "    <tr>\n",
       "      <th>9</th>\n",
       "      <td>2.7</td>\n",
       "      <td>25</td>\n",
       "    </tr>\n",
       "  </tbody>\n",
       "</table>\n",
       "</div>"
      ],
      "text/plain": [
       "   Hours  Scores\n",
       "0    2.5      21\n",
       "1    5.1      47\n",
       "2    3.2      27\n",
       "3    8.5      75\n",
       "4    3.5      30\n",
       "5    1.5      20\n",
       "6    9.2      88\n",
       "7    5.5      60\n",
       "8    8.3      81\n",
       "9    2.7      25"
      ]
     },
     "execution_count": 2,
     "metadata": {},
     "output_type": "execute_result"
    }
   ],
   "source": [
    "URL = r\"https://bit.ly/w-data\"\n",
    "dataFrame = pd.read_csv(URL)\n",
    "print(\"Dataset successfully imported!\")\n",
    "\n",
    "dataFrame.head(10)"
   ]
  },
  {
   "cell_type": "markdown",
   "id": "destroyed-cream",
   "metadata": {},
   "source": [
    "## Printing the last 10 lines of dataset"
   ]
  },
  {
   "cell_type": "code",
   "execution_count": 3,
   "id": "outside-hybrid",
   "metadata": {},
   "outputs": [
    {
     "data": {
      "text/html": [
       "<div>\n",
       "<style scoped>\n",
       "    .dataframe tbody tr th:only-of-type {\n",
       "        vertical-align: middle;\n",
       "    }\n",
       "\n",
       "    .dataframe tbody tr th {\n",
       "        vertical-align: top;\n",
       "    }\n",
       "\n",
       "    .dataframe thead th {\n",
       "        text-align: right;\n",
       "    }\n",
       "</style>\n",
       "<table border=\"1\" class=\"dataframe\">\n",
       "  <thead>\n",
       "    <tr style=\"text-align: right;\">\n",
       "      <th></th>\n",
       "      <th>Hours</th>\n",
       "      <th>Scores</th>\n",
       "    </tr>\n",
       "  </thead>\n",
       "  <tbody>\n",
       "    <tr>\n",
       "      <th>15</th>\n",
       "      <td>8.9</td>\n",
       "      <td>95</td>\n",
       "    </tr>\n",
       "    <tr>\n",
       "      <th>16</th>\n",
       "      <td>2.5</td>\n",
       "      <td>30</td>\n",
       "    </tr>\n",
       "    <tr>\n",
       "      <th>17</th>\n",
       "      <td>1.9</td>\n",
       "      <td>24</td>\n",
       "    </tr>\n",
       "    <tr>\n",
       "      <th>18</th>\n",
       "      <td>6.1</td>\n",
       "      <td>67</td>\n",
       "    </tr>\n",
       "    <tr>\n",
       "      <th>19</th>\n",
       "      <td>7.4</td>\n",
       "      <td>69</td>\n",
       "    </tr>\n",
       "    <tr>\n",
       "      <th>20</th>\n",
       "      <td>2.7</td>\n",
       "      <td>30</td>\n",
       "    </tr>\n",
       "    <tr>\n",
       "      <th>21</th>\n",
       "      <td>4.8</td>\n",
       "      <td>54</td>\n",
       "    </tr>\n",
       "    <tr>\n",
       "      <th>22</th>\n",
       "      <td>3.8</td>\n",
       "      <td>35</td>\n",
       "    </tr>\n",
       "    <tr>\n",
       "      <th>23</th>\n",
       "      <td>6.9</td>\n",
       "      <td>76</td>\n",
       "    </tr>\n",
       "    <tr>\n",
       "      <th>24</th>\n",
       "      <td>7.8</td>\n",
       "      <td>86</td>\n",
       "    </tr>\n",
       "  </tbody>\n",
       "</table>\n",
       "</div>"
      ],
      "text/plain": [
       "    Hours  Scores\n",
       "15    8.9      95\n",
       "16    2.5      30\n",
       "17    1.9      24\n",
       "18    6.1      67\n",
       "19    7.4      69\n",
       "20    2.7      30\n",
       "21    4.8      54\n",
       "22    3.8      35\n",
       "23    6.9      76\n",
       "24    7.8      86"
      ]
     },
     "execution_count": 3,
     "metadata": {},
     "output_type": "execute_result"
    }
   ],
   "source": [
    "dataFrame.tail(10)"
   ]
  },
  {
   "cell_type": "markdown",
   "id": "sophisticated-citizen",
   "metadata": {},
   "source": [
    "## Initial Data Visualization for regression"
   ]
  },
  {
   "cell_type": "code",
   "execution_count": 4,
   "id": "athletic-reunion",
   "metadata": {},
   "outputs": [
    {
     "data": {
      "image/png": "[encoded data removed]",
      "text/plain": [
       "<Figure size 432x288 with 1 Axes>"
      ]
     },
     "metadata": {
      "needs_background": "light"
     },
     "output_type": "display_data"
    }
   ],
   "source": [
    "dataFrame.plot(x='Hours', y='Scores',style='o')  # select 'o' style for dot representation\n",
    "plt.title('Hours vs Percentage')  \n",
    "plt.xlabel('Total Study Hours')  \n",
    "plt.ylabel('Projected Percentage')  \n",
    "plt.show()"
   ]
  },
  {
   "cell_type": "markdown",
   "id": "behavioral-defendant",
   "metadata": {},
   "source": [
    "## Data pre-processing to fetch input / independent variable & dependent attribute"
   ]
  },
  {
   "cell_type": "code",
   "execution_count": 5,
   "id": "electoral-coffee",
   "metadata": {},
   "outputs": [],
   "source": [
    "X = dataFrame.iloc[:, :-1].values  \n",
    "Y = dataFrame.iloc[:, 1].values"
   ]
  },
  {
   "cell_type": "markdown",
   "id": "manufactured-notion",
   "metadata": {},
   "source": [
    "## Train the model by spliting dataset into training & testing set"
   ]
  },
  {
   "cell_type": "code",
   "execution_count": 6,
   "id": "historic-sacrifice",
   "metadata": {},
   "outputs": [
    {
     "name": "stdout",
     "output_type": "stream",
     "text": [
      "Model Trained Successfully.\n"
     ]
    }
   ],
   "source": [
    "X_train, X_test, Y_train, Y_test = train_test_split(X, Y, test_size=0.3, random_state=0) \n",
    "obj = LinearRegression()  #Linear regression object for model training\n",
    "obj.fit(X_train.reshape(-1,1), Y_train) \n",
    "\n",
    "print(\"Model Trained Successfully.\")"
   ]
  },
  {
   "cell_type": "markdown",
   "id": "parallel-final",
   "metadata": {},
   "source": [
    "## Making actual graph of linear regression with regression line"
   ]
  },
  {
   "cell_type": "code",
   "execution_count": 7,
   "id": "coated-stamp",
   "metadata": {},
   "outputs": [
    {
     "data": {
      "image/png": "[encoded data removed]",
      "text/plain": [
       "<Figure size 432x288 with 1 Axes>"
      ]
     },
     "metadata": {
      "needs_background": "light"
     },
     "output_type": "display_data"
    }
   ],
   "source": [
    "# Draw the regression line\n",
    "line = obj.coef_*X+obj.intercept_\n",
    "\n",
    "# Plot testing data on graph\n",
    "plt.scatter(X,Y)\n",
    "plt.plot(X, line,color='red') # assign red color to regression line\n",
    "plt.title('Regression Line For Testing dataset')  \n",
    "plt.xlabel('Total Study Hours')  \n",
    "plt.ylabel('Projected Percentage') \n",
    "plt.show()"
   ]
  },
  {
   "cell_type": "markdown",
   "id": "outside-imperial",
   "metadata": {},
   "source": [
    "## Predicting own data to check accuracy of our model"
   ]
  },
  {
   "cell_type": "code",
   "execution_count": 8,
   "id": "sacred-sense",
   "metadata": {},
   "outputs": [
    {
     "name": "stdout",
     "output_type": "stream",
     "text": [
      "[[1.5]\n",
      " [3.2]\n",
      " [7.4]\n",
      " [2.5]\n",
      " [5.9]\n",
      " [3.8]\n",
      " [1.9]\n",
      " [7.8]] \n",
      "\n",
      "[17.05366541 33.69422878 74.80620886 26.8422321  60.12335883 39.56736879\n",
      " 20.96909209 78.72163554]\n"
     ]
    }
   ],
   "source": [
    "Y_pred = obj.predict(X_test) #making prediction using X_test variable & store it to Y_pred\n",
    "print(X_test,\"\\n\")\n",
    "print(Y_pred)"
   ]
  },
  {
   "cell_type": "markdown",
   "id": "diagnostic-withdrawal",
   "metadata": {},
   "source": [
    "## Making comparison between actual & predicted values"
   ]
  },
  {
   "cell_type": "code",
   "execution_count": 9,
   "id": "front-wells",
   "metadata": {},
   "outputs": [
    {
     "data": {
      "text/html": [
       "<div>\n",
       "<style scoped>\n",
       "    .dataframe tbody tr th:only-of-type {\n",
       "        vertical-align: middle;\n",
       "    }\n",
       "\n",
       "    .dataframe tbody tr th {\n",
       "        vertical-align: top;\n",
       "    }\n",
       "\n",
       "    .dataframe thead th {\n",
       "        text-align: right;\n",
       "    }\n",
       "</style>\n",
       "<table border=\"1\" class=\"dataframe\">\n",
       "  <thead>\n",
       "    <tr style=\"text-align: right;\">\n",
       "      <th></th>\n",
       "      <th>Actual Value</th>\n",
       "      <th>Predicted Value</th>\n",
       "    </tr>\n",
       "  </thead>\n",
       "  <tbody>\n",
       "    <tr>\n",
       "      <th>0</th>\n",
       "      <td>20</td>\n",
       "      <td>17.053665</td>\n",
       "    </tr>\n",
       "    <tr>\n",
       "      <th>1</th>\n",
       "      <td>27</td>\n",
       "      <td>33.694229</td>\n",
       "    </tr>\n",
       "    <tr>\n",
       "      <th>2</th>\n",
       "      <td>69</td>\n",
       "      <td>74.806209</td>\n",
       "    </tr>\n",
       "    <tr>\n",
       "      <th>3</th>\n",
       "      <td>30</td>\n",
       "      <td>26.842232</td>\n",
       "    </tr>\n",
       "    <tr>\n",
       "      <th>4</th>\n",
       "      <td>62</td>\n",
       "      <td>60.123359</td>\n",
       "    </tr>\n",
       "    <tr>\n",
       "      <th>5</th>\n",
       "      <td>35</td>\n",
       "      <td>39.567369</td>\n",
       "    </tr>\n",
       "    <tr>\n",
       "      <th>6</th>\n",
       "      <td>24</td>\n",
       "      <td>20.969092</td>\n",
       "    </tr>\n",
       "    <tr>\n",
       "      <th>7</th>\n",
       "      <td>86</td>\n",
       "      <td>78.721636</td>\n",
       "    </tr>\n",
       "  </tbody>\n",
       "</table>\n",
       "</div>"
      ],
      "text/plain": [
       "   Actual Value  Predicted Value\n",
       "0            20        17.053665\n",
       "1            27        33.694229\n",
       "2            69        74.806209\n",
       "3            30        26.842232\n",
       "4            62        60.123359\n",
       "5            35        39.567369\n",
       "6            24        20.969092\n",
       "7            86        78.721636"
      ]
     },
     "execution_count": 9,
     "metadata": {},
     "output_type": "execute_result"
    }
   ],
   "source": [
    "DF = pd.DataFrame({'Actual Value' : Y_test, 'Predicted Value' : Y_pred})\n",
    "DF"
   ]
  },
  {
   "cell_type": "markdown",
   "id": "attempted-military",
   "metadata": {},
   "source": [
    "## Evaluating Training & Testing Score "
   ]
  },
  {
   "cell_type": "code",
   "execution_count": 10,
   "id": "optical-conviction",
   "metadata": {},
   "outputs": [
    {
     "name": "stdout",
     "output_type": "stream",
     "text": [
      "Training Score: 0.9484997422695115\n",
      "Test Score: 0.9568211104435257\n"
     ]
    }
   ],
   "source": [
    "print(\"Training Score:\", obj.score(X_train,Y_train))\n",
    "print(\"Test Score:\", obj.score(X_test,Y_test))"
   ]
  },
  {
   "cell_type": "markdown",
   "id": "assisted-opinion",
   "metadata": {},
   "source": [
    "## Drawing bar graph to differentiate actual & predicted values"
   ]
  },
  {
   "cell_type": "code",
   "execution_count": 11,
   "id": "hungarian-swift",
   "metadata": {},
   "outputs": [
    {
     "data": {
      "image/png": "[encoded data removed]",
      "text/plain": [
       "<Figure size 504x504 with 1 Axes>"
      ]
     },
     "metadata": {
      "needs_background": "light"
     },
     "output_type": "display_data"
    }
   ],
   "source": [
    "DF.plot(kind='bar',figsize=(7,7))\n",
    "plt.show()"
   ]
  },
  {
   "cell_type": "markdown",
   "id": "global-noise",
   "metadata": {},
   "source": [
    "## Take input from user for prediction"
   ]
  },
  {
   "cell_type": "code",
   "execution_count": 13,
   "id": "opposite-lebanon",
   "metadata": {},
   "outputs": [
    {
     "name": "stdout",
     "output_type": "stream",
     "text": [
      "Enter the number of study hours :3.5\n",
      "Number of study hours : 3.5\n",
      "Estimated Percentage : 36.63079878596354\n"
     ]
    }
   ],
   "source": [
    "no_hours = float(input(\"Enter the number of study hours :\"))\n",
    "result = np.array([no_hours])\n",
    "result = result.reshape(-1, 1)\n",
    "prediction = obj.predict(result)\n",
    "\n",
    "print(\"Number of study hours : {}\".format(no_hours))\n",
    "print(\"Estimated Percentage : {}\".format(prediction[0]))"
   ]
  },
  {
   "cell_type": "markdown",
   "id": "coated-railway",
   "metadata": {},
   "source": [
    "## Accuracy of model by evaluating algorithm efficiency"
   ]
  },
  {
   "cell_type": "code",
   "execution_count": 14,
   "id": "brutal-maryland",
   "metadata": {},
   "outputs": [],
   "source": [
    "from sklearn import metrics #importing metrics module from sklearn to get efficiency of algorithm"
   ]
  },
  {
   "cell_type": "code",
   "execution_count": 15,
   "id": "decimal-cooking",
   "metadata": {},
   "outputs": [
    {
     "name": "stdout",
     "output_type": "stream",
     "text": [
      "Mean Squared Error: 22.96509721270043\n"
     ]
    }
   ],
   "source": [
    "print('Mean Squared Error:', metrics.mean_squared_error(Y_test, Y_pred))"
   ]
  },
  {
   "cell_type": "code",
   "execution_count": 16,
   "id": "protected-conjunction",
   "metadata": {},
   "outputs": [
    {
     "name": "stdout",
     "output_type": "stream",
     "text": [
      "Mean Absolute Error: 4.419727808027652\n"
     ]
    }
   ],
   "source": [
    "print('Mean Absolute Error:',metrics.mean_absolute_error(Y_test, Y_pred))"
   ]
  },
  {
   "cell_type": "code",
   "execution_count": 17,
   "id": "involved-judgment",
   "metadata": {},
   "outputs": [
    {
     "name": "stdout",
     "output_type": "stream",
     "text": [
      "Root Mean Squared Error: 4.792191274636315\n"
     ]
    }
   ],
   "source": [
    "print('Root Mean Squared Error:', np.sqrt(metrics.mean_squared_error(Y_test, Y_pred)))"
   ]
  },
  {
   "cell_type": "code",
   "execution_count": 18,
   "id": "forced-blind",
   "metadata": {},
   "outputs": [
    {
     "name": "stdout",
     "output_type": "stream",
     "text": [
      "R2 Score: 0.9568211104435257\n"
     ]
    }
   ],
   "source": [
    "print('R2 Score:', metrics.r2_score(Y_test, Y_pred))"
   ]
  },
  {
   "cell_type": "markdown",
   "id": "fossil-involvement",
   "metadata": {},
   "source": [
    "R-squared evaluates the scatter of the data points around the fitted regression line. It is also called the coefficient of determination, or the coefficient of multiple determination for multiple regression. R-squared is the percentage of the dependent variable variation that a linear model explains."
   ]
  },
  {
   "cell_type": "markdown",
   "id": "legislative-definition",
   "metadata": {},
   "source": [
    "<b>Conclusion</b>\n",
    "\n",
    "In this task, I have successfully predicted the percentage of a student based on his/her number of hours of studying. I have used simple linear regression as it has only one independent variable."
   ]
  },
  {
   "cell_type": "markdown",
   "id": "equal-twelve",
   "metadata": {},
   "source": [
    "## Task 1 Completed Successfully"
   ]
  },
  {
   "cell_type": "markdown",
   "id": "commercial-dressing",
   "metadata": {},
   "source": [
    "# Thank You"
   ]
  }
 ],
 "metadata": {
  "kernelspec": {
   "display_name": "Python 3 (ipykernel)",
   "language": "python",
   "name": "python3"
  },
  "language_info": {
   "codemirror_mode": {
    "name": "ipython",
    "version": 3
   },
   "file_extension": ".py",
   "mimetype": "text/x-python",
   "name": "python",
   "nbconvert_exporter": "python",
   "pygments_lexer": "ipython3",
   "version": "3.9.7"
  }
 },
 "nbformat": 4,
 "nbformat_minor": 5
}
